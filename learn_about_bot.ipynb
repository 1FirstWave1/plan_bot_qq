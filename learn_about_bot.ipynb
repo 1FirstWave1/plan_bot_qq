{
 "cells": [
  {
   "cell_type": "markdown",
   "metadata": {},
   "source": [
    "### Record the knowledge related to developing a QQ bot."
   ]
  },
  {
   "cell_type": "markdown",
   "metadata": {},
   "source": [
    "time acquire"
   ]
  },
  {
   "cell_type": "code",
   "execution_count": null,
   "metadata": {},
   "outputs": [],
   "source": [
    "from datetime import datetime\n",
    "#convert datatime to str format\n",
    "date_str = datetime.now().date().strftime(\"%Y-%m-%d\")"
   ]
  },
  {
   "cell_type": "code",
   "execution_count": null,
   "metadata": {},
   "outputs": [],
   "source": [
    "abstract = on_command(\"time\", priority=5, block=True)\n",
    "\n",
    "\n",
    "@abstract.handle()\n",
    "async def _(bot: Bot, event: MessageEvent, state: T_State, arg: Message = CommandArg()):\n",
    "    await abstract.finish(time.strftime(\"%Y-%m-%d %H:%M:%S\", time.localtime()))"
   ]
  },
  {
   "cell_type": "code",
   "execution_count": null,
   "metadata": {},
   "outputs": [],
   "source": [
    "#若有参数直接处理，否则输出prompt等待输入\n",
    "@abstract.got()"
   ]
  },
  {
   "cell_type": "code",
   "execution_count": null,
   "metadata": {},
   "outputs": [],
   "source": [
    "llm = ChatOpenAI(\n",
    "        model_name=\"gpt-4o\",\n",
    "        temperature=0,\n",
    "    )\n",
    "#自定义相应规则\n",
    "pp = on_message(rule=to_me(), priority=98)\n",
    "\n",
    "\n",
    "@pp.handle()\n",
    "async def answer(bot: Bot, event: MessageEvent):\n",
    "    ask = str(event.get_message())\n",
    "    #logger.opt(colors=True).info(ask)\n",
    "    if ask:\n",
    "        messages = [HumanMessage(content=ask)]\n",
    "        resp = llm.invoke(messages)\n",
    "        msg = resp.content\n",
    "        await pp.finish(message=msg, at_sender=True)"
   ]
  }
 ],
 "metadata": {
  "kernelspec": {
   "display_name": "robot",
   "language": "python",
   "name": "python3"
  },
  "language_info": {
   "name": "python",
   "version": "3.10.11"
  }
 },
 "nbformat": 4,
 "nbformat_minor": 2
}
